{
 "cells": [
  {
   "cell_type": "code",
   "execution_count": 8,
   "metadata": {},
   "outputs": [
    {
     "name": "stdout",
     "output_type": "stream",
     "text": [
      "hey\n",
      "hey\n",
      "hey\n",
      "hey\n",
      "hey\n"
     ]
    }
   ],
   "source": [
    "import cv2\n",
    "\n",
    "cap=cv2.VideoCapture(0)\n",
    "\n",
    "#width = int(cap.get(cv2.CAP_PROP_FRAME_WIDTH))\n",
    "#height = int(cap.get(cv2.CAP_PROP_FRAME_HEIGHT))\n",
    "\n",
    "def draw_rectangle(event,x,y,flags,param):\n",
    "    \n",
    "    global pt1,pt2,topleft,botright\n",
    "    \n",
    "    if event == cv2.EVENT_LBUTTONDOWN:\n",
    "        if topleft==True and botright==True:\n",
    "            pt1=pt1=(0,0)\n",
    "            topleft=botright=False\n",
    "            \n",
    "        if topleft == False:\n",
    "            pt1=(x,y)\n",
    "            topleft=True\n",
    "    \n",
    "        elif botright == False:\n",
    "            pt2=(x,y)\n",
    "            print('hey')\n",
    "            botright = True\n",
    "    \n",
    "pt1=(0,0)\n",
    "pt2=(0,0)\n",
    "topleft=False\n",
    "botright=False\n",
    "\n",
    "cv2.namedWindow('test')\n",
    "cv2.setMouseCallback('test',draw_rectangle)\n",
    "\n",
    "while True:\n",
    "    \n",
    "    \n",
    "    ret,frame = cap.read()\n",
    "    \n",
    "    if topleft:\n",
    "        cv2.circle(frame,center=pt1,radius=5,color=(0,0,255),thickness=-1)\n",
    "        \n",
    "    if topleft == True and botright==True:\n",
    "        cv2.rectangle(frame,pt1,pt2,(0,0,255),3)   \n",
    "        \n",
    "    cv2.imshow('test',frame)\n",
    "    if cv2.waitKey(10) & 0xFF == ord('q'):\n",
    "        break\n",
    "        \n",
    "cap.release()\n",
    "cv2.destroyAllWindows()"
   ]
  },
  {
   "cell_type": "code",
   "execution_count": null,
   "metadata": {},
   "outputs": [],
   "source": []
  }
 ],
 "metadata": {
  "kernelspec": {
   "display_name": "Python 3",
   "language": "python",
   "name": "python3"
  },
  "language_info": {
   "codemirror_mode": {
    "name": "ipython",
    "version": 3
   },
   "file_extension": ".py",
   "mimetype": "text/x-python",
   "name": "python",
   "nbconvert_exporter": "python",
   "pygments_lexer": "ipython3",
   "version": "3.7.3"
  }
 },
 "nbformat": 4,
 "nbformat_minor": 2
}
